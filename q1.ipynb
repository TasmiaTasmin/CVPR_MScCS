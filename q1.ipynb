{
  "nbformat": 4,
  "nbformat_minor": 0,
  "metadata": {
    "colab": {
      "name": "q1.ipynb",
      "provenance": [],
      "collapsed_sections": []
    },
    "kernelspec": {
      "name": "python3",
      "display_name": "Python 3"
    },
    "language_info": {
      "name": "python"
    }
  },
  "cells": [
    {
      "cell_type": "code",
      "execution_count": null,
      "metadata": {
        "id": "rnOJ8Auoo_mU"
      },
      "outputs": [],
      "source": [
        "def bubbleSort( theSeq ):\n",
        "    n = len( theSeq )\n",
        "\n",
        "    for i in range( n - 1 ) :\n",
        "        flag = 0\n",
        "        it = i+1\n",
        "        for j in range(n - 1) :            \n",
        "            if theSeq[j] > theSeq[j + 1] : \n",
        "                tmp = theSeq[j]\n",
        "                theSeq[j] = theSeq[j + 1]\n",
        "                theSeq[j + 1] = tmp\n",
        "                flag = 1\n",
        "        print(\"After itertion %d:\" % it, theSeq)\n",
        "        \n",
        "        if flag == 0:\n",
        "            break\n",
        "\n",
        "    return theSeq\n",
        "\n",
        "array = [21,6,9,33,3] \n",
        "print(\"\\nInitial array before sorting:\", array)\n",
        "\n",
        "result = bubbleSort(array)\n",
        "print(\"\\n\\nSorted array is:\", result)"
      ]
    },
    {
      "cell_type": "code",
      "source": [
        "def merge(arr, l, m, r):\n",
        "    n1 = m - l + 1\n",
        "    n2 = r - m\n",
        "\n",
        "    L = [0] * (n1)\n",
        "    R = [0] * (n2)\n",
        "\n",
        "    for i in range(0, n1):\n",
        "        L[i] = arr[l + i]\n",
        " \n",
        "    for j in range(0, n2):\n",
        "        R[j] = arr[m + 1 + j]\n",
        "\n",
        "    i = 0     \n",
        "    j = 0     \n",
        "    k = l     \n",
        " \n",
        "    while i < n1 and j < n2:\n",
        "        if L[i] <= R[j]:\n",
        "            arr[k] = L[i]\n",
        "            i += 1\n",
        "        else:\n",
        "            arr[k] = R[j]\n",
        "            j += 1\n",
        "        k += 1\n",
        " \n",
        "    while i < n1:\n",
        "        arr[k] = L[i]\n",
        "        i += 1\n",
        "        k += 1\n",
        "\n",
        "    while j < n2:\n",
        "        arr[k] = R[j]\n",
        "        j += 1\n",
        "        k += 1\n",
        "\n",
        "def mergeSort(arr, l, r):\n",
        "\n",
        "    if l < r:\n",
        "        \n",
        "        m = l+(r-l)//2\n",
        "\n",
        "        mergeSort(arr, l, m)\n",
        "        mergeSort(arr, m+1, r)\n",
        "        merge(arr, l, m, r) \n",
        "\n",
        "    print(arr)\n",
        "\n",
        "arr = [12, 11, 9, 5, 4, 7]\n",
        "n = len(arr)\n",
        "print(\"Given array is\")\n",
        "for i in range(n):\n",
        "    print(\"%d\" % arr[i],end=\" \")\n",
        "\n",
        "print(\"\\n\")\n",
        "\n",
        "mergeSort(arr, 0, n-1)\n",
        "print(\"\\nSorted array is\")\n",
        "for i in range(n):\n",
        "    print(\"%d\" % arr[i],end=\" \")"
      ],
      "metadata": {
        "colab": {
          "base_uri": "https://localhost:8080/"
        },
        "id": "qyyMnvGVqFmd",
        "outputId": "34a941d7-de83-4141-ce1d-73ba8819b61e"
      },
      "execution_count": 16,
      "outputs": [
        {
          "output_type": "stream",
          "name": "stdout",
          "text": [
            "Given array is\n",
            "12 11 9 5 4 7 \n",
            "\n",
            "[12, 11, 9, 5, 4, 7]\n",
            "[12, 11, 9, 5, 4, 7]\n",
            "[11, 12, 9, 5, 4, 7]\n",
            "[11, 12, 9, 5, 4, 7]\n",
            "[9, 11, 12, 5, 4, 7]\n",
            "[9, 11, 12, 5, 4, 7]\n",
            "[9, 11, 12, 5, 4, 7]\n",
            "[9, 11, 12, 4, 5, 7]\n",
            "[9, 11, 12, 4, 5, 7]\n",
            "[9, 11, 12, 4, 5, 7]\n",
            "[4, 5, 7, 9, 11, 12]\n",
            "\n",
            "Sorted array is\n",
            "4 5 7 9 11 12 "
          ]
        }
      ]
    }
  ]
}