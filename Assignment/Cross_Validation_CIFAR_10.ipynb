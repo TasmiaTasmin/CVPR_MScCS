{
  "nbformat": 4,
  "nbformat_minor": 0,
  "metadata": {
    "colab": {
      "name": "Cross_Validation_CIFAR_10.ipynb",
      "provenance": []
    },
    "kernelspec": {
      "name": "python3",
      "display_name": "Python 3"
    },
    "language_info": {
      "name": "python"
    }
  },
  "cells": [
    {
      "cell_type": "code",
      "execution_count": 1,
      "metadata": {
        "id": "V1mYfF55v1JP"
      },
      "outputs": [],
      "source": [
        "from tensorflow.keras.datasets import cifar10\n",
        "from tensorflow.keras.models import Sequential\n",
        "from tensorflow.keras.layers import Dense, Flatten, Conv2D, MaxPooling2D\n",
        "from tensorflow.keras.losses import sparse_categorical_crossentropy\n",
        "from tensorflow.keras.optimizers import Adam\n",
        "from sklearn.model_selection import KFold\n",
        "import numpy as np\n",
        "import matplotlib.pyplot as plt"
      ]
    },
    {
      "cell_type": "code",
      "source": [
        "# Model configuration\n",
        "batch_size = 50\n",
        "img_width, img_height, img_num_channels = 32, 32, 3\n",
        "loss_function = sparse_categorical_crossentropy\n",
        "no_classes = 100\n",
        "no_epochs = 5\n",
        "optimizer = Adam()\n",
        "verbosity = 1\n",
        "num_folds = 20"
      ],
      "metadata": {
        "id": "jfDq6odWyPkb"
      },
      "execution_count": 2,
      "outputs": []
    },
    {
      "cell_type": "code",
      "source": [
        "# Load CIFAR-10 data\n",
        "(input_train, target_train), (input_test, target_test) = cifar10.load_data()"
      ],
      "metadata": {
        "id": "fQoU6qqSyif7",
        "colab": {
          "base_uri": "https://localhost:8080/"
        },
        "outputId": "c5cb77dc-55ae-4287-b250-48a01c9f7789"
      },
      "execution_count": 3,
      "outputs": [
        {
          "output_type": "stream",
          "name": "stdout",
          "text": [
            "Downloading data from https://www.cs.toronto.edu/~kriz/cifar-10-python.tar.gz\n",
            "170500096/170498071 [==============================] - 2s 0us/step\n",
            "170508288/170498071 [==============================] - 2s 0us/step\n"
          ]
        }
      ]
    },
    {
      "cell_type": "code",
      "source": [
        "# Determine shape of the data\n",
        "input_shape = (img_width, img_height, img_num_channels)"
      ],
      "metadata": {
        "id": "UZzmFliPyivb"
      },
      "execution_count": 4,
      "outputs": []
    },
    {
      "cell_type": "code",
      "source": [
        "# Parse numbers as floats\n",
        "input_train = input_train.astype('float32')\n",
        "input_test = input_test.astype('float32')"
      ],
      "metadata": {
        "id": "9M5s2wIJyi66"
      },
      "execution_count": 5,
      "outputs": []
    },
    {
      "cell_type": "code",
      "source": [
        "# Normalize data\n",
        "input_train = input_train / 255\n",
        "input_test = input_test / 255"
      ],
      "metadata": {
        "id": "9xvs5gQ_yjFA"
      },
      "execution_count": 6,
      "outputs": []
    },
    {
      "cell_type": "code",
      "source": [
        "# Define per-fold score containers\n",
        "acc_per_fold = []\n",
        "loss_per_fold = []"
      ],
      "metadata": {
        "id": "dfvNYS-qyjMy"
      },
      "execution_count": 7,
      "outputs": []
    },
    {
      "cell_type": "code",
      "source": [
        "# Merge inputs and targets\n",
        "inputs = np.concatenate((input_train, input_test), axis=0)\n",
        "targets = np.concatenate((target_train, target_test), axis=0)"
      ],
      "metadata": {
        "id": "LqhiiRPnyjU0"
      },
      "execution_count": 8,
      "outputs": []
    },
    {
      "cell_type": "code",
      "source": [
        "# Define the K-fold Cross Validator\n",
        "kfold = KFold(n_splits=num_folds, shuffle=True)"
      ],
      "metadata": {
        "id": "z84RcTqKyjdb"
      },
      "execution_count": 9,
      "outputs": []
    },
    {
      "cell_type": "code",
      "source": [
        "# K-fold Cross Validation model evaluation\n",
        "fold_no = 1\n",
        "for train, test in kfold.split(inputs, targets):\n",
        "\n",
        "  # Define the model architecture\n",
        "  model = Sequential()\n",
        "  model.add(Conv2D(32, kernel_size=(3, 3), activation='relu', input_shape=input_shape))\n",
        "  model.add(MaxPooling2D(pool_size=(2, 2)))\n",
        "  model.add(Conv2D(64, kernel_size=(3, 3), activation='relu'))\n",
        "  model.add(MaxPooling2D(pool_size=(2, 2)))\n",
        "  model.add(Flatten())\n",
        "  model.add(Dense(256, activation='relu'))\n",
        "  model.add(Dense(128, activation='relu'))\n",
        "  model.add(Dense(no_classes, activation='softmax'))\n",
        "\n",
        "  # Compile the model\n",
        "  model.compile(loss=loss_function,\n",
        "                optimizer=optimizer,\n",
        "                metrics=['accuracy'])\n",
        "\n",
        "\n",
        "  # Generate a print\n",
        "  print('------------------------------------------------------------------------')\n",
        "  print(f'Training for fold {fold_no} ...')\n",
        "\n",
        "  # Fit data to model\n",
        "  history = model.fit(inputs[train], targets[train],\n",
        "              batch_size=batch_size,\n",
        "              epochs=no_epochs,\n",
        "              verbose=verbosity)\n",
        "\n",
        "  # Generate generalization metrics\n",
        "  scores = model.evaluate(inputs[test], targets[test], verbose=0)\n",
        "  print(f'Score for fold {fold_no}: {model.metrics_names[0]} of {scores[0]}; {model.metrics_names[1]} of {scores[1]*100}%')\n",
        "  acc_per_fold.append(scores[1] * 100)\n",
        "  loss_per_fold.append(scores[0])\n",
        "\n",
        "  # Increase fold number\n",
        "  fold_no = fold_no + 1"
      ],
      "metadata": {
        "id": "PB-_OcBxy0iq",
        "colab": {
          "base_uri": "https://localhost:8080/"
        },
        "outputId": "3b8222dd-8d93-4e6f-dcf5-24672d17b6c2"
      },
      "execution_count": null,
      "outputs": [
        {
          "output_type": "stream",
          "name": "stdout",
          "text": [
            "------------------------------------------------------------------------\n",
            "Training for fold 1 ...\n",
            "Epoch 1/5\n",
            "1140/1140 [==============================] - 81s 70ms/step - loss: 1.4893 - accuracy: 0.4683\n",
            "Epoch 2/5\n",
            "1140/1140 [==============================] - 82s 72ms/step - loss: 1.0669 - accuracy: 0.6219\n",
            "Epoch 3/5\n",
            "1140/1140 [==============================] - 79s 69ms/step - loss: 0.9159 - accuracy: 0.6789\n",
            "Epoch 4/5\n",
            "1140/1140 [==============================] - 80s 70ms/step - loss: 0.7980 - accuracy: 0.7217\n",
            "Epoch 5/5\n",
            "1140/1140 [==============================] - 78s 68ms/step - loss: 0.7028 - accuracy: 0.7552\n",
            "Score for fold 1: loss of 0.8859350681304932; accuracy of 68.80000233650208%\n",
            "------------------------------------------------------------------------\n",
            "Training for fold 2 ...\n",
            "Epoch 1/5\n",
            "1140/1140 [==============================] - 75s 66ms/step - loss: 1.4893 - accuracy: 0.4579\n",
            "Epoch 2/5\n",
            "1140/1140 [==============================] - 77s 68ms/step - loss: 1.1475 - accuracy: 0.5901\n",
            "Epoch 3/5\n",
            "1140/1140 [==============================] - 76s 67ms/step - loss: 1.0148 - accuracy: 0.6409\n",
            "Epoch 4/5\n",
            "1140/1140 [==============================] - 75s 66ms/step - loss: 0.9224 - accuracy: 0.6754\n",
            "Epoch 5/5\n",
            "1140/1140 [==============================] - 75s 66ms/step - loss: 0.8504 - accuracy: 0.7018\n",
            "Score for fold 2: loss of 0.9487460851669312; accuracy of 67.00000166893005%\n",
            "------------------------------------------------------------------------\n",
            "Training for fold 3 ...\n",
            "Epoch 1/5\n",
            "1140/1140 [==============================] - 80s 70ms/step - loss: 1.5279 - accuracy: 0.4460\n",
            "Epoch 2/5\n",
            "1140/1140 [==============================] - 77s 67ms/step - loss: 1.1354 - accuracy: 0.5951\n",
            "Epoch 3/5\n",
            "1140/1140 [==============================] - 77s 68ms/step - loss: 0.9858 - accuracy: 0.6516\n",
            "Epoch 4/5\n",
            "1140/1140 [==============================] - 77s 67ms/step - loss: 0.8880 - accuracy: 0.6870\n",
            "Epoch 5/5\n",
            "1140/1140 [==============================] - 78s 68ms/step - loss: 0.8114 - accuracy: 0.7151\n",
            "Score for fold 3: loss of 0.9598775506019592; accuracy of 66.53333306312561%\n",
            "------------------------------------------------------------------------\n",
            "Training for fold 4 ...\n",
            "Epoch 1/5\n",
            " 596/1140 [==============>...............] - ETA: 39s - loss: 1.6827 - accuracy: 0.3812"
          ]
        }
      ]
    },
    {
      "cell_type": "code",
      "source": [
        "# == Provide average scores ==\n",
        "print('------------------------------------------------------------------------')\n",
        "print('Score per fold')\n",
        "for i in range(0, len(acc_per_fold)):\n",
        "  print('------------------------------------------------------------------------')\n",
        "  print(f'> Fold {i+1} - Loss: {loss_per_fold[i]} - Accuracy: {acc_per_fold[i]}%')\n",
        "  plt.figure(figsize=(15,5))\n",
        "  plt.subplot(1,2,1)\n",
        "  plt.plot(history.history['accuracy'], 'o-', label='Cross Validation Acc Per Fold')\n",
        "  plt.plot(history.history['loss'], 'o-', label = 'Cross Validation Loss Per Fold')\n",
        "  plt.xlabel('Cross Validation Acc Per Fold')\n",
        "  plt.ylabel('Cross Validation Loss per Fold')\n",
        "  plt.grid(True)\n",
        "  plt.legend(loc='lower right')\n",
        "  plt.show() \n",
        "print('------------------------------------------------------------------------')\n",
        "print('Average scores for all folds:')\n",
        "print(f'> Accuracy: {np.mean(acc_per_fold)} (+- {np.std(acc_per_fold)})')\n",
        "print(f'> Loss: {np.mean(loss_per_fold)}')\n",
        "print('------------------------------------------------------------------------')"
      ],
      "metadata": {
        "id": "V-1tBs59zDRj"
      },
      "execution_count": null,
      "outputs": []
    }
  ]
}