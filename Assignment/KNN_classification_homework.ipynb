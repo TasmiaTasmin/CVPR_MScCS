{
  "nbformat": 4,
  "nbformat_minor": 0,
  "metadata": {
    "colab": {
      "name": "KNN classification homework.ipynb",
      "provenance": []
    },
    "kernelspec": {
      "name": "python3",
      "display_name": "Python 3"
    },
    "language_info": {
      "name": "python"
    }
  },
  "cells": [
    {
      "cell_type": "code",
      "execution_count": 8,
      "metadata": {
        "id": "EQuMTvRE3HRc"
      },
      "outputs": [],
      "source": [
        "import pickle\n",
        "import numpy as np\n",
        "import os\n",
        "import platform\n",
        "import numpy as np\n",
        "import matplotlib.pyplot as plt\n",
        "import download\n",
        "import data_utils\n",
        "%matplotlib inline"
      ]
    },
    {
      "cell_type": "code",
      "source": [
        "class KNN(object):\n",
        "  def _init_(self, k=1):\n",
        "   pass\n",
        "  \n",
        "  def training(self, X, y):\n",
        "    self.X_train = X\n",
        "    self.y_train = y\n",
        "  \n",
        "  def predict(self, X, k=1, num_loops=0):\n",
        "    if num_loops==0:\n",
        "      distances = self.compute_distances(X)\n",
        "    else:\n",
        "        raise ValueError('Invalid value %d for num_loops' % num_loops)\n",
        "\n",
        "    return self.predict_labels(distances, k=k)\n",
        "\n",
        "  def compute_distances(self, X):\n",
        "    num_train = self.X_train.shape[0]\n",
        "    num_test = X.shape[0]\n",
        "    distances = np.zeros((num_test, num_train))\n",
        "\n",
        "    #dists = np.sqrt(np.sum(np.square(self.X_train), axis=1) + np.sum(np.square(X), axis=1)[:, np.newaxis] - 2 * np.dot(X, self.X_train.T))\n",
        "    # (x-y)^2 = x^2 - 2xy + y^2\n",
        "\n",
        "    x2 = np.sum(np.square(self.X_train), axis=1)\n",
        "    y2 = np.sum(np.square(X), axis=1)[:, np.newaxis]\n",
        "    xy =  np.dot(X, self.X_train.T)\n",
        "    distances = np.sqrt(x2 - 2*xy + y2)\n",
        "    pass\n",
        "    return distances\n",
        "\n",
        "  def predict_labels(self, dists, k=1):\n",
        "      num_test = dists.shape[0]\n",
        "      y_pred = np.zeros(num_test)\n",
        "      for i in range(num_test):\n",
        "          closest_y = []\n",
        "          sorted_dist = np.argsort(dists[i])\n",
        "          closest_y = list(self.y_train[sorted_dist[0:k]])\n",
        "          pass\n",
        "          y_pred[i]= (np.argmax(np.bincount(closest_y)))\n",
        "          pass\n",
        "      return y_pred"
      ],
      "metadata": {
        "id": "ZRFe3_uP3RU7"
      },
      "execution_count": 9,
      "outputs": []
    },
    {
      "cell_type": "code",
      "source": [
        "url = \"https://www.cs.toronto.edu/~kriz/cifar-10-python.tar.gz\"\n",
        "download_dir = \"./CIFARdata\"\n",
        "download.maybe_download_and_extract(url,download_dir)"
      ],
      "metadata": {
        "colab": {
          "base_uri": "https://localhost:8080/"
        },
        "id": "F5o5_L2W3Vai",
        "outputId": "d6d9bbf0-02d3-4ac9-e2be-196d3001dafa"
      },
      "execution_count": 10,
      "outputs": [
        {
          "output_type": "stream",
          "name": "stdout",
          "text": [
            "- Download progress: 100.0%\n",
            "Download finished. Extracting files.\n",
            "Done.\n"
          ]
        }
      ]
    },
    {
      "cell_type": "code",
      "source": [
        "cifar10_dir = './CIFARdata/cifar-10-batches-py'\n",
        "X_train, y_train, X_test, y_test = data_utils.load_CIFAR10(cifar10_dir)\n",
        "\n",
        "# Checking the size of the training and testing data\n",
        "print('Training data shape: ', X_train.shape)\n",
        "print('Training labels shape: ', y_train.shape)\n",
        "print('Test data shape: ', X_test.shape)\n",
        "print('Test labels shape: ', y_test.shape)"
      ],
      "metadata": {
        "colab": {
          "base_uri": "https://localhost:8080/"
        },
        "id": "E1dXwCIX3Yg9",
        "outputId": "2381873d-a965-4c7e-9a1f-f897130d5c92"
      },
      "execution_count": 11,
      "outputs": [
        {
          "output_type": "stream",
          "name": "stdout",
          "text": [
            "Training data shape:  (50000, 32, 32, 3)\n",
            "Training labels shape:  (50000,)\n",
            "Test data shape:  (10000, 32, 32, 3)\n",
            "Test labels shape:  (10000,)\n"
          ]
        }
      ]
    },
    {
      "cell_type": "code",
      "source": [
        "classes = ['plane', 'car', 'bird', 'cat', 'deer', 'dog', 'frog', 'horse', 'ship', 'truck']\n",
        "num_classes = len(classes)\n",
        "samples_per_class = 7\n",
        "plt.figure(figsize = (15, 15))\n",
        "for y, cls in enumerate(classes):\n",
        "    idxs = np.flatnonzero(y_train == y)\n",
        "    idxs = np.random.choice(idxs, samples_per_class, replace=False)\n",
        "    for i, idx in enumerate(idxs):\n",
        "        plt_idx = i * num_classes + y + 1\n",
        "        plt.subplot(samples_per_class, num_classes, plt_idx)\n",
        "        plt.imshow(X_train[idx].astype('uint8'))\n",
        "        plt.axis('off')\n",
        "        if i == 0:\n",
        "            plt.title(cls)\n",
        "plt.show()"
      ],
      "metadata": {
        "id": "eok8O8yY3fI2"
      },
      "execution_count": null,
      "outputs": []
    },
    {
      "cell_type": "code",
      "source": [
        "# Memory error prevention by subsampling data\n",
        "\n",
        "num_training = 10000\n",
        "mask = list(range(num_training))\n",
        "X_train = X_train[mask]\n",
        "y_train = y_train[mask]\n",
        "\n",
        "num_test = 1000\n",
        "mask = list(range(num_test))\n",
        "X_test = X_test[mask]\n",
        "y_test = y_test[mask]"
      ],
      "metadata": {
        "id": "q1e0MZDz3jDb"
      },
      "execution_count": null,
      "outputs": []
    },
    {
      "cell_type": "code",
      "source": [
        "# reshaping data and placing into rows\n",
        "X_train = np.reshape(X_train, (X_train.shape[0], -1))\n",
        "X_test = np.reshape(X_test, (X_test.shape[0], -1))\n",
        "print(X_train.shape, X_test.shape)"
      ],
      "metadata": {
        "id": "75EVyxs93jVg"
      },
      "execution_count": null,
      "outputs": []
    },
    {
      "cell_type": "code",
      "source": [
        "classifier = KNN()\n",
        "classifier.training(X_train, y_train)\n",
        "distances= classifier.compute_distances(X_test)\n",
        "y_test_pred = classifier.predict_labels(distances, k=5)\n",
        "num_correct = np.sum(y_test_pred == y_test)\n",
        "accuracy = float(num_correct) / num_test\n",
        "print('Got %d / %d correct => accuracy: %f' % (num_correct, num_test, accuracy))"
      ],
      "metadata": {
        "id": "z8L4kaF43ooH"
      },
      "execution_count": null,
      "outputs": []
    },
    {
      "cell_type": "code",
      "source": [
        "num_folds = 5\n",
        "k_values = [1, 5, 8, 10, 12, 20, 50, 65, 80, 100]\n",
        "\n",
        "X_train_folds = []\n",
        "y_train_folds = []\n",
        "\n",
        "X_train_folds = np.array_split(X_train,num_folds)\n",
        "y_train_folds = np.array_split(y_train,num_folds)\n",
        "k_to_accuracies = {}\n",
        "\n",
        "for k in k_values:\n",
        "    k_to_accuracies[k] = []\n",
        "    for num_knn in range(0,num_folds):\n",
        "        X_test = X_train_folds[num_knn]\n",
        "        y_test = y_train_folds[num_knn]\n",
        "        X_train = X_train_folds\n",
        "        y_train = y_train_folds\n",
        "        \n",
        "        temp = np.delete(X_train,num_knn,0)\n",
        "        X_train = np.concatenate((temp),axis = 0)\n",
        "        y_train = np.delete(y_train,num_knn,0)\n",
        "        y_train = np.concatenate((y_train),axis = 0)\n",
        "        \n",
        "        classifier = KNN()\n",
        "        classifier.training(X_train, y_train)\n",
        "        dists = classifier.compute_distances(X_test)\n",
        "        y_test_pred = classifier.predict_labels(dists, k)\n",
        "\n",
        "        num_correct = np.sum(y_test_pred == y_test)\n",
        "        accuracy = float(num_correct) / num_test\n",
        "        k_to_accuracies[k].append(accuracy)\n",
        "\n",
        "\n",
        "print(\"Printing 5-fold accuracies for varying values of k:\")\n",
        "print()\n",
        "for k in sorted(k_to_accuracies):\n",
        "    for accuracy in k_to_accuracies[k]:\n",
        "        print('k = %d, accuracy = %f' % (k, accuracy))"
      ],
      "metadata": {
        "id": "bcF08VrI3pHS"
      },
      "execution_count": null,
      "outputs": []
    },
    {
      "cell_type": "code",
      "source": [
        "for k in k_values:\n",
        "    accuracies = k_to_accuracies[k]\n",
        "    print('k = %d, average accuracy = %f' % (k, np.average(accuracies)))\n",
        "    plt.scatter([k] * len(accuracies), accuracies)\n",
        "\n",
        "# plot the trend line with error bars that correspond to standard deviation\n",
        "accuracies_mean = np.array([np.mean(v) for k,v in sorted(k_to_accuracies.items())])\n",
        "accuracies_std = np.array([np.std(v) for k,v in sorted(k_to_accuracies.items())])\n",
        "plt.rcParams['figure.figsize'] = [10,12]\n",
        "plt.errorbar(k_values, accuracies_mean, yerr=accuracies_std)\n",
        "plt.title('Cross-validation on k')\n",
        "plt.xlabel('k')\n",
        "plt.ylabel('Cross-validation accuracy')\n",
        "plt.show()"
      ],
      "metadata": {
        "id": "wEtyrUO335eZ"
      },
      "execution_count": null,
      "outputs": []
    }
  ]
}